{
 "cells": [
  {
   "cell_type": "code",
   "execution_count": null,
   "metadata": {},
   "outputs": [],
   "source": [
    "from dotenv import dotenv_values\n",
    "from openai import OpenAI\n",
    "from IPython.display import Markdown, Image\n",
    "import fitz  # PyMuPDF\n",
    "import base64\n",
    "import instructor\n",
    "from pydantic import BaseModel, create_model\n",
    "import csv\n",
    "import os\n",
    "import json"
   ]
  },
  {
   "cell_type": "code",
   "execution_count": null,
   "metadata": {},
   "outputs": [],
   "source": [
    "env = dotenv_values(\".env\")\n",
    "\n",
    "openai_client = OpenAI(api_key=env[\"OPENAI_API_KEY\"])"
   ]
  },
  {
   "cell_type": "code",
   "execution_count": null,
   "metadata": {},
   "outputs": [],
   "source": [
    "def prepare_image_for_open_ai(image_path):\n",
    "    with open(image_path, \"rb\") as f:\n",
    "        image_data = base64.b64encode(f.read()).decode('utf-8')\n",
    "\n",
    "    return f\"data:image/png;base64,{image_data}\"\n",
    "\n",
    "def convert_pdf_to_png(pdf_path, output_path, zoom_x=3, zoom_y=3):\n",
    "    # Otwórz plik PDF\n",
    "    pdf_document = fitz.open(pdf_path)\n",
    "    \n",
    "    # Iteruj przez każdą stronę\n",
    "    for page_num in range(len(pdf_document)):\n",
    "        # Pobierz stronę\n",
    "        page = pdf_document.load_page(page_num)\n",
    "        \n",
    "        # Ustaw współczynnik powiększenia dla wyższej rozdzielczości\n",
    "        mat = fitz.Matrix(zoom_x, zoom_y)\n",
    "        \n",
    "        # Renderuj stronę jako obraz (pixmap) z określonym współczynnikiem powiększenia\n",
    "        pix = page.get_pixmap(matrix=mat)\n",
    "        \n",
    "        # Zapisz obraz jako PNG\n",
    "        pix.save(f\"{output_path}.png\")"
   ]
  },
  {
   "cell_type": "code",
   "execution_count": null,
   "metadata": {},
   "outputs": [],
   "source": [
    "pdf_path = '600.100.00.04_05.05.PDF'\n",
    "filename = pdf_path\n",
    "if pdf_path.endswith(\".PDF\"):\n",
    "    filename = pdf_path.rstrip(\".PDF\")\n",
    "output_path = f\"{filename}\"\n",
    "convert_pdf_to_png(pdf_path, output_path)"
   ]
  },
  {
   "cell_type": "code",
   "execution_count": null,
   "metadata": {},
   "outputs": [],
   "source": [
    "Image(f\"{output_path}.png\")"
   ]
  },
  {
   "cell_type": "code",
   "execution_count": null,
   "metadata": {},
   "outputs": [],
   "source": [
    "instructor_openai_client = instructor.from_openai(openai_client)"
   ]
  },
  {
   "cell_type": "code",
   "execution_count": null,
   "metadata": {},
   "outputs": [],
   "source": [
    "class ImageInfo(BaseModel):\n",
    "    drawing_number: str\n",
    "    name: str\n",
    "    height_before_bending: float\n",
    "    width_before_bending: float\n",
    "    model: int\n",
    "    pattern: int\n",
    "    drawing: int\n",
    "    nums_of_corr: int\n",
    "    material: str\n",
    "    thickness: float\n",
    "    bending_radius: float\n",
    "    mass: float\n",
    "    additional_note: str\n",
    "    number_of_bends: int\n",
    "\n",
    "info = instructor_openai_client.chat.completions.create(\n",
    "    model=\"gpt-4o\",\n",
    "    response_model=ImageInfo,\n",
    "    messages=[\n",
    "        {\n",
    "            \"role\": \"user\",\n",
    "            \"content\": [\n",
    "                {\n",
    "                    \"type\": \"text\",\n",
    "                    \"text\": \"Odczytaj z rysunku technicznego elementu giętego z blachy następujące parametry, Nr rysunku, nazwa, wysokość przed gięciem wymiar odczytaj z rozwinięcia z tego samego rzutu co szerokość, szerokość przed gięciem wymiar odczytaj z rozwinięciu z tego samego rzutu co wysokość, model, wykrój, rysunek, ilość pop, Materiał (gatunek bez grubości), grubość blachy, Promień gięcia, Masa, dodatkowa treść po słowie 'Uwaga' jeśli taka występuje. Z rzutu przekroju odczytaj ile element ma gięć.\",\n",
    "                },\n",
    "                {\n",
    "                    \"type\": \"image_url\",\n",
    "                    \"image_url\": {\n",
    "                        \"url\": prepare_image_for_open_ai(f\"{output_path}.png\"),\n",
    "                        \"detail\": \"high\"\n",
    "                    },\n",
    "                },\n",
    "            ],\n",
    "        },\n",
    "    ],\n",
    "    seed = 1\n",
    ")\n",
    "\n",
    "info.model_dump()\n"
   ]
  },
  {
   "cell_type": "code",
   "execution_count": null,
   "metadata": {},
   "outputs": [],
   "source": [
    "dane_list = info.model_dump()\n",
    "dane = [dane_list]\n",
    "\n",
    "nazwa_pliku = \"dane.csv\"\n",
    "\n",
    "# Sprawdzenie, czy plik istnieje\n",
    "plik_istnieje = os.path.isfile(nazwa_pliku)\n",
    "\n",
    "# Zestaw do przechowywania unikalnych kombinacji \"drawing_number\", \"pattern\", \"drawing\"\n",
    "unikalne_dane = set()\n",
    "\n",
    "# Odczyt istniejących danych, jeśli plik istnieje\n",
    "if plik_istnieje:\n",
    "    with open(nazwa_pliku, mode='r', newline='') as plik:\n",
    "        reader = csv.DictReader(plik)\n",
    "        for wiersz in reader:\n",
    "            unikalne_dane.add((wiersz['drawing_number'], int(wiersz['pattern']), int(wiersz['drawing'])))\n",
    "\n",
    "# Otwarcie pliku w trybie dopisywania, jeśli istnieje, lub zapisu, jeśli nie istnieje\n",
    "with open(nazwa_pliku, mode='a' if plik_istnieje else 'w', newline='') as plik:\n",
    "    fieldnames = ['drawing_number', 'name', 'height_before_bending', 'width_before_bending', 'model', \n",
    "                  'pattern', 'drawing', 'nums_of_corr', 'material', 'thickness', \n",
    "                  'bending_radius', 'mass', 'additional_note', 'number_of_bends']\n",
    "    writer = csv.DictWriter(plik, fieldnames=fieldnames)\n",
    "    \n",
    "    # Jeśli plik nie istnieje, zapisz nagłówki\n",
    "    if not plik_istnieje:\n",
    "        writer.writeheader()\n",
    "    \n",
    "    # Zapis danych do pliku CSV z kontrolą duplikatów\n",
    "    for wiersz in dane:\n",
    "        klucz = (wiersz['drawing_number'], wiersz['pattern'], wiersz['drawing'])\n",
    "        if klucz in unikalne_dane:\n",
    "            print(f\"Duplikat znaleziony: {wiersz}\")\n",
    "        else:\n",
    "            writer.writerow(wiersz)\n",
    "            unikalne_dane.add(klucz)\n",
    "\n",
    "print(f\"Dane zostały zapisane do pliku {nazwa_pliku}\")"
   ]
  }
 ],
 "metadata": {
  "kernelspec": {
   "display_name": "Python 3",
   "language": "python",
   "name": "python3"
  },
  "language_info": {
   "codemirror_mode": {
    "name": "ipython",
    "version": 3
   },
   "file_extension": ".py",
   "mimetype": "text/x-python",
   "name": "python",
   "nbconvert_exporter": "python",
   "pygments_lexer": "ipython3",
   "version": "3.12.6"
  }
 },
 "nbformat": 4,
 "nbformat_minor": 2
}
